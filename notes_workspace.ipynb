{
 "cells": [
  {
   "cell_type": "markdown",
   "metadata": {},
   "source": [
    "## Deployment"
   ]
  },
  {
   "cell_type": "code",
   "execution_count": 2,
   "metadata": {},
   "outputs": [
    {
     "name": "stdout",
     "output_type": "stream",
     "text": [
      "NAME                                READY   STATUS    RESTARTS   AGE     IP          NODE             NOMINATED NODE   READINESS GATES\n",
      "nginx-deployment-7b965f675d-gmzl4   1/1     Running   0          3m46s   10.1.0.80   docker-desktop   <none>           <none>\n",
      "nginx-deployment-7b965f675d-hbm5x   1/1     Running   0          3m46s   10.1.0.79   docker-desktop   <none>           <none>\n"
     ]
    }
   ],
   "source": [
    "# how to get pod ips\n",
    "\n",
    "!kubectl get pod -o wide"
   ]
  },
  {
   "cell_type": "code",
   "execution_count": 3,
   "metadata": {},
   "outputs": [
    {
     "name": "stdout",
     "output_type": "stream",
     "text": [
      "apiVersion: apps/v1\n",
      "kind: Deployment\n",
      "metadata:\n",
      "  annotations:\n",
      "    deployment.kubernetes.io/revision: \"1\"\n",
      "    kubectl.kubernetes.io/last-applied-configuration: |\n",
      "      {\"apiVersion\":\"apps/v1\",\"kind\":\"Deployment\",\"metadata\":{\"annotations\":{},\"labels\":{\"app\":\"nginx\"},\"name\":\"nginx-deployment\",\"namespace\":\"default\"},\"spec\":{\"replicas\":2,\"selector\":{\"matchLabels\":{\"app\":\"nginx\"}},\"template\":{\"metadata\":{\"labels\":{\"app\":\"nginx\"}},\"spec\":{\"containers\":[{\"image\":\"nginx:1.16\",\"name\":\"nginx\",\"ports\":[{\"containerPort\":8080}]}]}}}}\n",
      "  creationTimestamp: \"2024-01-23T05:39:48Z\"\n",
      "  generation: 1\n",
      "  labels:\n",
      "    app: nginx\n",
      "  name: nginx-deployment\n",
      "  namespace: default\n",
      "  resourceVersion: \"141844\"\n",
      "  uid: 2fec7e39-3b43-4516-89e3-1cd230b957c7\n",
      "spec:\n",
      "  progressDeadlineSeconds: 600\n",
      "  replicas: 2\n",
      "  revisionHistoryLimit: 10\n",
      "  selector:\n",
      "    matchLabels:\n",
      "      app: nginx\n",
      "  strategy:\n",
      "    rollingUpdate:\n",
      "      maxSurge: 25%\n",
      "      maxUnavailable: 25%\n",
      "    type: RollingUpdate\n",
      "  template:\n",
      "    metadata:\n",
      "      creationTimestamp: null\n",
      "      labels:\n",
      "        app: nginx\n",
      "    spec:\n",
      "      containers:\n",
      "      - image: nginx:1.16\n",
      "        imagePullPolicy: IfNotPresent\n",
      "        name: nginx\n",
      "        ports:\n",
      "        - containerPort: 8080\n",
      "          protocol: TCP\n",
      "        resources: {}\n",
      "        terminationMessagePath: /dev/termination-log\n",
      "        terminationMessagePolicy: File\n",
      "      dnsPolicy: ClusterFirst\n",
      "      restartPolicy: Always\n",
      "      schedulerName: default-scheduler\n",
      "      securityContext: {}\n",
      "      terminationGracePeriodSeconds: 30\n",
      "status:\n",
      "  availableReplicas: 2\n",
      "  conditions:\n",
      "  - lastTransitionTime: \"2024-01-23T05:39:55Z\"\n",
      "    lastUpdateTime: \"2024-01-23T05:39:55Z\"\n",
      "    message: Deployment has minimum availability.\n",
      "    reason: MinimumReplicasAvailable\n",
      "    status: \"True\"\n",
      "    type: Available\n",
      "  - lastTransitionTime: \"2024-01-23T05:39:48Z\"\n",
      "    lastUpdateTime: \"2024-01-23T05:39:55Z\"\n",
      "    message: ReplicaSet \"nginx-deployment-7b965f675d\" has successfully progressed.\n",
      "    reason: NewReplicaSetAvailable\n",
      "    status: \"True\"\n",
      "    type: Progressing\n",
      "  observedGeneration: 1\n",
      "  readyReplicas: 2\n",
      "  replicas: 2\n",
      "  updatedReplicas: 2\n"
     ]
    }
   ],
   "source": [
    "# how to get deployment status\n",
    "\n",
    "!kubectl get deployment nginx-deployment -o yaml"
   ]
  },
  {
   "cell_type": "code",
   "execution_count": null,
   "metadata": {},
   "outputs": [],
   "source": []
  }
 ],
 "metadata": {
  "kernelspec": {
   "display_name": ".venv",
   "language": "python",
   "name": "python3"
  },
  "language_info": {
   "codemirror_mode": {
    "name": "ipython",
    "version": 3
   },
   "file_extension": ".py",
   "mimetype": "text/x-python",
   "name": "python",
   "nbconvert_exporter": "python",
   "pygments_lexer": "ipython3",
   "version": "3.10.11"
  }
 },
 "nbformat": 4,
 "nbformat_minor": 2
}
